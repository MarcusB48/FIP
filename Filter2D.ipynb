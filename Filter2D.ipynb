{
 "cells": [
  {
   "cell_type": "code",
   "execution_count": 7,
   "id": "1cb41ebe-2519-4dd6-8c12-89a3660be274",
   "metadata": {},
   "outputs": [],
   "source": [
    "import cv2 \n",
    "import numpy as np \n",
    "\n",
    "from tkinter import Tk\n",
    "from tkinter import filedialog as fd"
   ]
  },
  {
   "cell_type": "markdown",
   "id": "f87c5b71-20f2-4b4f-a54e-ab23d351a9d2",
   "metadata": {},
   "source": [
    "Suppress the root window"
   ]
  },
  {
   "cell_type": "code",
   "execution_count": 8,
   "id": "d09484be-6ab1-4125-835d-cbbe6e8cfa41",
   "metadata": {},
   "outputs": [
    {
     "data": {
      "text/plain": [
       "''"
      ]
     },
     "execution_count": 8,
     "metadata": {},
     "output_type": "execute_result"
    }
   ],
   "source": [
    "Tk().withdraw()"
   ]
  },
  {
   "cell_type": "markdown",
   "id": "cb522f70-2dfc-4ef6-aad8-c8f6013f9d3e",
   "metadata": {},
   "source": [
    "Show a file chooser window"
   ]
  },
  {
   "cell_type": "code",
   "execution_count": 9,
   "id": "6631d352-ede2-401b-9352-b739f1ff8f1a",
   "metadata": {},
   "outputs": [],
   "source": [
    "filename = fd.askopenfilename()"
   ]
  },
  {
   "cell_type": "markdown",
   "id": "2975999a-238d-4a47-b410-b956c1da298c",
   "metadata": {},
   "source": [
    "Read the image"
   ]
  },
  {
   "cell_type": "code",
   "execution_count": 10,
   "id": "feb6f84e-3122-429f-9394-f65d26c963b0",
   "metadata": {},
   "outputs": [],
   "source": [
    "image = cv2.imread(filename)"
   ]
  },
  {
   "cell_type": "markdown",
   "id": "97cdcf28-2937-4071-8ee0-7975e34f8a94",
   "metadata": {},
   "source": [
    "Create a kernel(2d convolution matrix)"
   ]
  },
  {
   "cell_type": "code",
   "execution_count": 11,
   "id": "39dbaf49-94ba-41a8-88f0-83974824cc82",
   "metadata": {},
   "outputs": [],
   "source": [
    "kernel1 = np.ones((5, 5), np.float32)/25"
   ]
  },
  {
   "cell_type": "markdown",
   "id": "d20096cf-b57d-4986-b9f8-2a2101d90f99",
   "metadata": {},
   "source": [
    "Apply the filter2D() function"
   ]
  },
  {
   "cell_type": "code",
   "execution_count": 12,
   "id": "b2af0a52-afb2-48a6-be01-01cd1877e4d3",
   "metadata": {},
   "outputs": [],
   "source": [
    "img = cv2.filter2D(src=image, ddepth=-1, kernel=kernel1)"
   ]
  },
  {
   "cell_type": "markdown",
   "id": "0693c65b-b26c-46d7-8f6f-963a861733d8",
   "metadata": {},
   "source": [
    "Create a window for the original image and resize"
   ]
  },
  {
   "cell_type": "code",
   "execution_count": 13,
   "id": "29dd8e3f-66f6-44d1-a241-ff007797074a",
   "metadata": {},
   "outputs": [],
   "source": [
    "cv2.namedWindow('Original', cv2.WINDOW_NORMAL)\n",
    "cv2.resizeWindow('Original', 600, 600)"
   ]
  },
  {
   "cell_type": "markdown",
   "id": "ef8cf7ac-57ad-464c-9591-93e086b413a3",
   "metadata": {},
   "source": [
    "Create a window for the kernel blur image and resize"
   ]
  },
  {
   "cell_type": "code",
   "execution_count": 14,
   "id": "0bec5f41-0e43-422d-830c-21c259657977",
   "metadata": {},
   "outputs": [],
   "source": [
    "cv2.namedWindow('Kernel Blur', cv2.WINDOW_NORMAL)\n",
    "cv2.resizeWindow('Kernel Blur', 600, 600)"
   ]
  },
  {
   "cell_type": "markdown",
   "id": "91a4a429-c46b-434d-a801-9045fd33e74e",
   "metadata": {},
   "source": [
    "Show the original and output images"
   ]
  },
  {
   "cell_type": "code",
   "execution_count": 15,
   "id": "fee6e330-8995-4add-9b50-55474b9ab428",
   "metadata": {},
   "outputs": [],
   "source": [
    "cv2.imshow('Original', image) \n",
    "cv2.imshow('Kernel Blur', img) \n",
    "cv2.waitKey(0) \n",
    "cv2.destroyAllWindows()"
   ]
  },
  {
   "cell_type": "markdown",
   "id": "046b053a-b070-463e-9b5a-f1435f0a4ed1",
   "metadata": {},
   "source": [
    "Get an output file name and save the image"
   ]
  },
  {
   "cell_type": "code",
   "execution_count": 16,
   "id": "b5fdbc3c-fc58-469b-9e97-86e2a89a1ebf",
   "metadata": {},
   "outputs": [
    {
     "data": {
      "text/plain": [
       "True"
      ]
     },
     "execution_count": 16,
     "metadata": {},
     "output_type": "execute_result"
    }
   ],
   "source": [
    "filename = fd.asksaveasfilename(defaultextension=\".*\", filetypes=[(\"bit map\", \"*.bmp\"), (\"jpeg\", \"*.jpg\")])\n",
    "cv2.imwrite(filename, img)"
   ]
  }
 ],
 "metadata": {
  "kernelspec": {
   "display_name": "Python 3 (ipykernel)",
   "language": "python",
   "name": "python3"
  },
  "language_info": {
   "codemirror_mode": {
    "name": "ipython",
    "version": 3
   },
   "file_extension": ".py",
   "mimetype": "text/x-python",
   "name": "python",
   "nbconvert_exporter": "python",
   "pygments_lexer": "ipython3",
   "version": "3.9.18"
  }
 },
 "nbformat": 4,
 "nbformat_minor": 5
}
